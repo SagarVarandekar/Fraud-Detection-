{
 "cells": [
  {
   "cell_type": "markdown",
   "id": "acce9cfb",
   "metadata": {},
   "source": [
    "## EDA and Fraud Detection"
   ]
  },
  {
   "cell_type": "markdown",
   "id": "540d7288",
   "metadata": {},
   "source": [
    "### Problem Formulation\n",
    "Due to the private nature of financial data, there is a lack of publicly available datasets that can be used for analysis. In this project, a synthetic dataset, publicly available on Kaggle, generated using a simulator called PaySim is used. The dataset was generated using aggregated metrics from the private dataset of a multinational mobile financial services company.\n",
    "\n",
    "There are 6362620 transactions, The data set has 11 attributes which include is\n",
    "\n",
    "- Type of transactions\n",
    "- Amount transacted\n",
    "- Customer ID and Recipient ID\n",
    "- Old and New balance of Customer and Recipient\n",
    "- Time step of the transaction\n",
    "- Whether the transaction was fraudulent or not"
   ]
  },
  {
   "cell_type": "markdown",
   "id": "234ee745",
   "metadata": {},
   "source": [
    "### Methodology\n",
    "\n",
    "- **General Overview:** Have a General Overview of the data\n",
    "- **EDA:** Perform Exploratory Data Analysis(EDA) to gain more clear insights of the data\n",
    "- **Data Preprocessing:** With the information gained after performing EDA, Preprocess the Data accordingly\n",
    "- **Model Building:** Once the data is properly cleaned and preprocessed, use this data to build a Machine Learning\n",
    "- **Model Performance:** Assess the Performance of the Model on the Testing data set\n",
    "- **Predictions:** Make Predictions on the Testing data set"
   ]
  },
  {
   "cell_type": "markdown",
   "id": "4880d1e1",
   "metadata": {},
   "source": [
    "#### Importing required libraries"
   ]
  },
  {
   "cell_type": "code",
   "execution_count": 1,
   "id": "41f1635f",
   "metadata": {},
   "outputs": [],
   "source": [
    "import numpy as np\n",
    "import pandas as pd\n",
    "\n",
    "import matplotlib.pyplot as plt\n",
    "%matplotlib inline\n",
    "import seaborn as sns\n",
    "sns.set(palette=\"Set2\")\n",
    "from sklearn.svm import SVC\n",
    "from sklearn.model_selection import train_test_split\n",
    "from sklearn.metrics import (accuracy_score, f1_score,average_precision_score, confusion_matrix,\n",
    "                             average_precision_score, precision_score, recall_score, roc_auc_score, classification_report, roc_curve,auc )\n",
    "from sklearn.model_selection import GridSearchCV\n",
    "from sklearn.naive_bayes import BernoulliNB, MultinomialNB\n",
    "from sklearn.ensemble import RandomForestClassifier\n",
    "from sklearn.preprocessing import LabelEncoder, MinMaxScaler, StandardScaler\n",
    "\n",
    "\n",
    "from xgboost import XGBClassifier, plot_importance\n",
    "\n",
    "import warnings\n",
    "warnings.filterwarnings(\"ignore\")"
   ]
  },
  {
   "cell_type": "markdown",
   "id": "fcd9f8f8",
   "metadata": {},
   "source": [
    "#### Loading Dataset"
   ]
  },
  {
   "cell_type": "code",
   "execution_count": 2,
   "id": "cb802ecb",
   "metadata": {},
   "outputs": [],
   "source": [
    "data=pd.read_csv('Fraud.csv')"
   ]
  },
  {
   "cell_type": "markdown",
   "id": "a6866e62",
   "metadata": {},
   "source": [
    "#### Viewing Dataframe"
   ]
  },
  {
   "cell_type": "code",
   "execution_count": 3,
   "id": "d525aefa",
   "metadata": {},
   "outputs": [
    {
     "data": {
      "text/html": [
       "<div>\n",
       "<style scoped>\n",
       "    .dataframe tbody tr th:only-of-type {\n",
       "        vertical-align: middle;\n",
       "    }\n",
       "\n",
       "    .dataframe tbody tr th {\n",
       "        vertical-align: top;\n",
       "    }\n",
       "\n",
       "    .dataframe thead th {\n",
       "        text-align: right;\n",
       "    }\n",
       "</style>\n",
       "<table border=\"1\" class=\"dataframe\">\n",
       "  <thead>\n",
       "    <tr style=\"text-align: right;\">\n",
       "      <th></th>\n",
       "      <th>step</th>\n",
       "      <th>type</th>\n",
       "      <th>amount</th>\n",
       "      <th>nameOrig</th>\n",
       "      <th>oldbalanceOrg</th>\n",
       "      <th>newbalanceOrig</th>\n",
       "      <th>nameDest</th>\n",
       "      <th>oldbalanceDest</th>\n",
       "      <th>newbalanceDest</th>\n",
       "      <th>isFraud</th>\n",
       "      <th>isFlaggedFraud</th>\n",
       "    </tr>\n",
       "  </thead>\n",
       "  <tbody>\n",
       "    <tr>\n",
       "      <th>6362615</th>\n",
       "      <td>743</td>\n",
       "      <td>CASH_OUT</td>\n",
       "      <td>339682.13</td>\n",
       "      <td>C786484425</td>\n",
       "      <td>339682.13</td>\n",
       "      <td>0.0</td>\n",
       "      <td>C776919290</td>\n",
       "      <td>0.00</td>\n",
       "      <td>339682.13</td>\n",
       "      <td>1</td>\n",
       "      <td>0</td>\n",
       "    </tr>\n",
       "    <tr>\n",
       "      <th>6362616</th>\n",
       "      <td>743</td>\n",
       "      <td>TRANSFER</td>\n",
       "      <td>6311409.28</td>\n",
       "      <td>C1529008245</td>\n",
       "      <td>6311409.28</td>\n",
       "      <td>0.0</td>\n",
       "      <td>C1881841831</td>\n",
       "      <td>0.00</td>\n",
       "      <td>0.00</td>\n",
       "      <td>1</td>\n",
       "      <td>0</td>\n",
       "    </tr>\n",
       "    <tr>\n",
       "      <th>6362617</th>\n",
       "      <td>743</td>\n",
       "      <td>CASH_OUT</td>\n",
       "      <td>6311409.28</td>\n",
       "      <td>C1162922333</td>\n",
       "      <td>6311409.28</td>\n",
       "      <td>0.0</td>\n",
       "      <td>C1365125890</td>\n",
       "      <td>68488.84</td>\n",
       "      <td>6379898.11</td>\n",
       "      <td>1</td>\n",
       "      <td>0</td>\n",
       "    </tr>\n",
       "    <tr>\n",
       "      <th>6362618</th>\n",
       "      <td>743</td>\n",
       "      <td>TRANSFER</td>\n",
       "      <td>850002.52</td>\n",
       "      <td>C1685995037</td>\n",
       "      <td>850002.52</td>\n",
       "      <td>0.0</td>\n",
       "      <td>C2080388513</td>\n",
       "      <td>0.00</td>\n",
       "      <td>0.00</td>\n",
       "      <td>1</td>\n",
       "      <td>0</td>\n",
       "    </tr>\n",
       "    <tr>\n",
       "      <th>6362619</th>\n",
       "      <td>743</td>\n",
       "      <td>CASH_OUT</td>\n",
       "      <td>850002.52</td>\n",
       "      <td>C1280323807</td>\n",
       "      <td>850002.52</td>\n",
       "      <td>0.0</td>\n",
       "      <td>C873221189</td>\n",
       "      <td>6510099.11</td>\n",
       "      <td>7360101.63</td>\n",
       "      <td>1</td>\n",
       "      <td>0</td>\n",
       "    </tr>\n",
       "  </tbody>\n",
       "</table>\n",
       "</div>"
      ],
      "text/plain": [
       "         step      type      amount     nameOrig  oldbalanceOrg  \\\n",
       "6362615   743  CASH_OUT   339682.13   C786484425      339682.13   \n",
       "6362616   743  TRANSFER  6311409.28  C1529008245     6311409.28   \n",
       "6362617   743  CASH_OUT  6311409.28  C1162922333     6311409.28   \n",
       "6362618   743  TRANSFER   850002.52  C1685995037      850002.52   \n",
       "6362619   743  CASH_OUT   850002.52  C1280323807      850002.52   \n",
       "\n",
       "         newbalanceOrig     nameDest  oldbalanceDest  newbalanceDest  isFraud  \\\n",
       "6362615             0.0   C776919290            0.00       339682.13        1   \n",
       "6362616             0.0  C1881841831            0.00            0.00        1   \n",
       "6362617             0.0  C1365125890        68488.84      6379898.11        1   \n",
       "6362618             0.0  C2080388513            0.00            0.00        1   \n",
       "6362619             0.0   C873221189      6510099.11      7360101.63        1   \n",
       "\n",
       "         isFlaggedFraud  \n",
       "6362615               0  \n",
       "6362616               0  \n",
       "6362617               0  \n",
       "6362618               0  \n",
       "6362619               0  "
      ]
     },
     "execution_count": 3,
     "metadata": {},
     "output_type": "execute_result"
    }
   ],
   "source": [
    "data.tail()"
   ]
  },
  {
   "cell_type": "markdown",
   "id": "5e8d24a6",
   "metadata": {},
   "source": [
    "#### Checking count of Fraud and Non-Fraud Transactions"
   ]
  },
  {
   "cell_type": "code",
   "execution_count": 4,
   "id": "2270f507",
   "metadata": {},
   "outputs": [
    {
     "data": {
      "text/plain": [
       "0    6362604\n",
       "1         16\n",
       "Name: isFlaggedFraud, dtype: int64"
      ]
     },
     "execution_count": 4,
     "metadata": {},
     "output_type": "execute_result"
    }
   ],
   "source": [
    "data['isFlaggedFraud'].value_counts()"
   ]
  },
  {
   "cell_type": "code",
   "execution_count": 5,
   "id": "bd955ecf",
   "metadata": {
    "scrolled": true
   },
   "outputs": [
    {
     "data": {
      "text/plain": [
       "0    6354407\n",
       "1       8213\n",
       "Name: isFraud, dtype: int64"
      ]
     },
     "execution_count": 5,
     "metadata": {},
     "output_type": "execute_result"
    }
   ],
   "source": [
    "data['isFraud'].value_counts()"
   ]
  },
  {
   "cell_type": "markdown",
   "id": "9c176f1d",
   "metadata": {},
   "source": [
    "#### Checking for Null values in dataset"
   ]
  },
  {
   "cell_type": "code",
   "execution_count": 6,
   "id": "cae4d0ab",
   "metadata": {},
   "outputs": [
    {
     "data": {
      "text/plain": [
       "step              0\n",
       "type              0\n",
       "amount            0\n",
       "nameOrig          0\n",
       "oldbalanceOrg     0\n",
       "newbalanceOrig    0\n",
       "nameDest          0\n",
       "oldbalanceDest    0\n",
       "newbalanceDest    0\n",
       "isFraud           0\n",
       "isFlaggedFraud    0\n",
       "dtype: int64"
      ]
     },
     "execution_count": 6,
     "metadata": {},
     "output_type": "execute_result"
    }
   ],
   "source": [
    "data.isnull().sum()"
   ]
  },
  {
   "cell_type": "markdown",
   "id": "34972f84",
   "metadata": {},
   "source": [
    "#### There are no null values in the data"
   ]
  },
  {
   "cell_type": "code",
   "execution_count": 7,
   "id": "7cd5f228",
   "metadata": {},
   "outputs": [
    {
     "data": {
      "text/plain": [
       "0"
      ]
     },
     "execution_count": 7,
     "metadata": {},
     "output_type": "execute_result"
    }
   ],
   "source": [
    "data.duplicated().sum()"
   ]
  },
  {
   "cell_type": "markdown",
   "id": "79857299",
   "metadata": {},
   "source": [
    "#### There are no duplicate values in the data"
   ]
  },
  {
   "cell_type": "code",
   "execution_count": 8,
   "id": "a863ef40",
   "metadata": {},
   "outputs": [
    {
     "name": "stdout",
     "output_type": "stream",
     "text": [
      "['step', 'type', 'amount', 'nameOrig', 'oldbalanceOrg', 'newbalanceOrig', 'nameDest', 'oldbalanceDest', 'newbalanceDest', 'isFraud', 'isFlaggedFraud']\n",
      "The dataset has shape (6362620, 11)\n"
     ]
    }
   ],
   "source": [
    "print(list(data.columns))\n",
    "\n",
    "# shape of data\n",
    "print(f'The dataset has shape {data.shape}')"
   ]
  },
  {
   "cell_type": "markdown",
   "id": "b5cc39f9",
   "metadata": {},
   "source": [
    "#### Statistical Summary of the data"
   ]
  },
  {
   "cell_type": "code",
   "execution_count": 9,
   "id": "3a17bdd2",
   "metadata": {},
   "outputs": [
    {
     "data": {
      "text/html": [
       "<div>\n",
       "<style scoped>\n",
       "    .dataframe tbody tr th:only-of-type {\n",
       "        vertical-align: middle;\n",
       "    }\n",
       "\n",
       "    .dataframe tbody tr th {\n",
       "        vertical-align: top;\n",
       "    }\n",
       "\n",
       "    .dataframe thead th {\n",
       "        text-align: right;\n",
       "    }\n",
       "</style>\n",
       "<table border=\"1\" class=\"dataframe\">\n",
       "  <thead>\n",
       "    <tr style=\"text-align: right;\">\n",
       "      <th></th>\n",
       "      <th>step</th>\n",
       "      <th>amount</th>\n",
       "      <th>oldbalanceOrg</th>\n",
       "      <th>newbalanceOrig</th>\n",
       "      <th>oldbalanceDest</th>\n",
       "      <th>newbalanceDest</th>\n",
       "      <th>isFraud</th>\n",
       "      <th>isFlaggedFraud</th>\n",
       "    </tr>\n",
       "  </thead>\n",
       "  <tbody>\n",
       "    <tr>\n",
       "      <th>count</th>\n",
       "      <td>6.362620e+06</td>\n",
       "      <td>6.362620e+06</td>\n",
       "      <td>6.362620e+06</td>\n",
       "      <td>6.362620e+06</td>\n",
       "      <td>6.362620e+06</td>\n",
       "      <td>6.362620e+06</td>\n",
       "      <td>6.362620e+06</td>\n",
       "      <td>6.362620e+06</td>\n",
       "    </tr>\n",
       "    <tr>\n",
       "      <th>mean</th>\n",
       "      <td>2.433972e+02</td>\n",
       "      <td>1.798619e+05</td>\n",
       "      <td>8.338831e+05</td>\n",
       "      <td>8.551137e+05</td>\n",
       "      <td>1.100702e+06</td>\n",
       "      <td>1.224996e+06</td>\n",
       "      <td>1.290820e-03</td>\n",
       "      <td>2.514687e-06</td>\n",
       "    </tr>\n",
       "    <tr>\n",
       "      <th>std</th>\n",
       "      <td>1.423320e+02</td>\n",
       "      <td>6.038582e+05</td>\n",
       "      <td>2.888243e+06</td>\n",
       "      <td>2.924049e+06</td>\n",
       "      <td>3.399180e+06</td>\n",
       "      <td>3.674129e+06</td>\n",
       "      <td>3.590480e-02</td>\n",
       "      <td>1.585775e-03</td>\n",
       "    </tr>\n",
       "    <tr>\n",
       "      <th>min</th>\n",
       "      <td>1.000000e+00</td>\n",
       "      <td>0.000000e+00</td>\n",
       "      <td>0.000000e+00</td>\n",
       "      <td>0.000000e+00</td>\n",
       "      <td>0.000000e+00</td>\n",
       "      <td>0.000000e+00</td>\n",
       "      <td>0.000000e+00</td>\n",
       "      <td>0.000000e+00</td>\n",
       "    </tr>\n",
       "    <tr>\n",
       "      <th>25%</th>\n",
       "      <td>1.560000e+02</td>\n",
       "      <td>1.338957e+04</td>\n",
       "      <td>0.000000e+00</td>\n",
       "      <td>0.000000e+00</td>\n",
       "      <td>0.000000e+00</td>\n",
       "      <td>0.000000e+00</td>\n",
       "      <td>0.000000e+00</td>\n",
       "      <td>0.000000e+00</td>\n",
       "    </tr>\n",
       "    <tr>\n",
       "      <th>50%</th>\n",
       "      <td>2.390000e+02</td>\n",
       "      <td>7.487194e+04</td>\n",
       "      <td>1.420800e+04</td>\n",
       "      <td>0.000000e+00</td>\n",
       "      <td>1.327057e+05</td>\n",
       "      <td>2.146614e+05</td>\n",
       "      <td>0.000000e+00</td>\n",
       "      <td>0.000000e+00</td>\n",
       "    </tr>\n",
       "    <tr>\n",
       "      <th>75%</th>\n",
       "      <td>3.350000e+02</td>\n",
       "      <td>2.087215e+05</td>\n",
       "      <td>1.073152e+05</td>\n",
       "      <td>1.442584e+05</td>\n",
       "      <td>9.430367e+05</td>\n",
       "      <td>1.111909e+06</td>\n",
       "      <td>0.000000e+00</td>\n",
       "      <td>0.000000e+00</td>\n",
       "    </tr>\n",
       "    <tr>\n",
       "      <th>max</th>\n",
       "      <td>7.430000e+02</td>\n",
       "      <td>9.244552e+07</td>\n",
       "      <td>5.958504e+07</td>\n",
       "      <td>4.958504e+07</td>\n",
       "      <td>3.560159e+08</td>\n",
       "      <td>3.561793e+08</td>\n",
       "      <td>1.000000e+00</td>\n",
       "      <td>1.000000e+00</td>\n",
       "    </tr>\n",
       "  </tbody>\n",
       "</table>\n",
       "</div>"
      ],
      "text/plain": [
       "               step        amount  oldbalanceOrg  newbalanceOrig  \\\n",
       "count  6.362620e+06  6.362620e+06   6.362620e+06    6.362620e+06   \n",
       "mean   2.433972e+02  1.798619e+05   8.338831e+05    8.551137e+05   \n",
       "std    1.423320e+02  6.038582e+05   2.888243e+06    2.924049e+06   \n",
       "min    1.000000e+00  0.000000e+00   0.000000e+00    0.000000e+00   \n",
       "25%    1.560000e+02  1.338957e+04   0.000000e+00    0.000000e+00   \n",
       "50%    2.390000e+02  7.487194e+04   1.420800e+04    0.000000e+00   \n",
       "75%    3.350000e+02  2.087215e+05   1.073152e+05    1.442584e+05   \n",
       "max    7.430000e+02  9.244552e+07   5.958504e+07    4.958504e+07   \n",
       "\n",
       "       oldbalanceDest  newbalanceDest       isFraud  isFlaggedFraud  \n",
       "count    6.362620e+06    6.362620e+06  6.362620e+06    6.362620e+06  \n",
       "mean     1.100702e+06    1.224996e+06  1.290820e-03    2.514687e-06  \n",
       "std      3.399180e+06    3.674129e+06  3.590480e-02    1.585775e-03  \n",
       "min      0.000000e+00    0.000000e+00  0.000000e+00    0.000000e+00  \n",
       "25%      0.000000e+00    0.000000e+00  0.000000e+00    0.000000e+00  \n",
       "50%      1.327057e+05    2.146614e+05  0.000000e+00    0.000000e+00  \n",
       "75%      9.430367e+05    1.111909e+06  0.000000e+00    0.000000e+00  \n",
       "max      3.560159e+08    3.561793e+08  1.000000e+00    1.000000e+00  "
      ]
     },
     "execution_count": 9,
     "metadata": {},
     "output_type": "execute_result"
    }
   ],
   "source": [
    "data.describe()"
   ]
  },
  {
   "cell_type": "code",
   "execution_count": 10,
   "id": "19ccd136",
   "metadata": {
    "scrolled": true
   },
   "outputs": [
    {
     "name": "stdout",
     "output_type": "stream",
     "text": [
      "<class 'pandas.core.frame.DataFrame'>\n",
      "RangeIndex: 6362620 entries, 0 to 6362619\n",
      "Data columns (total 11 columns):\n",
      " #   Column          Dtype  \n",
      "---  ------          -----  \n",
      " 0   step            int64  \n",
      " 1   type            object \n",
      " 2   amount          float64\n",
      " 3   nameOrig        object \n",
      " 4   oldbalanceOrg   float64\n",
      " 5   newbalanceOrig  float64\n",
      " 6   nameDest        object \n",
      " 7   oldbalanceDest  float64\n",
      " 8   newbalanceDest  float64\n",
      " 9   isFraud         int64  \n",
      " 10  isFlaggedFraud  int64  \n",
      "dtypes: float64(5), int64(3), object(3)\n",
      "memory usage: 534.0+ MB\n"
     ]
    }
   ],
   "source": [
    "data.info()"
   ]
  },
  {
   "cell_type": "markdown",
   "id": "0a4dab53",
   "metadata": {},
   "source": [
    "#### Proportion of type of Transactions"
   ]
  },
  {
   "cell_type": "code",
   "execution_count": 11,
   "id": "577a109f",
   "metadata": {},
   "outputs": [
    {
     "data": {
      "image/png": "[encoded data removed]",
      "text/plain": [
       "<Figure size 576x576 with 1 Axes>"
      ]
     },
     "metadata": {},
     "output_type": "display_data"
    }
   ],
   "source": [
    "type = data['type'].value_counts()\n",
    "transaction = type.index\n",
    "count = type.values\n",
    "\n",
    "# drawing piechart\n",
    "plt.figure(figsize=(8,8))\n",
    "plt.pie(count, labels=transaction, autopct='%1.0f%%')\n",
    "plt.legend(loc='upper left')\n",
    "plt.show()"
   ]
  },
  {
   "cell_type": "markdown",
   "id": "68252dc3",
   "metadata": {},
   "source": [
    "#### Count of Fraud and Non-Fraud Transactions in each type of Transaction"
   ]
  },
  {
   "cell_type": "code",
   "execution_count": 12,
   "id": "2b9e9dd3",
   "metadata": {},
   "outputs": [
    {
     "data": {
      "image/png": "[encoded data removed]",
      "text/plain": [
       "<Figure size 864x576 with 1 Axes>"
      ]
     },
     "metadata": {},
     "output_type": "display_data"
    }
   ],
   "source": [
    "plt.figure(figsize=(12,8))\n",
    "ax=sns.countplot(x = \"type\", hue=\"isFraud\", data = data)\n",
    "plt.title('Types of Transaction nonFraud and Fraud')\n",
    "for p in ax.patches:\n",
    "        ax.annotate('{:.1f}'.format(p.get_height()), (p.get_x()+0.1, p.get_height()+50))"
   ]
  },
  {
   "cell_type": "markdown",
   "id": "f115d4df",
   "metadata": {},
   "source": [
    "* __Transaction types TRANSFER and CASH_OUT only have FRAUD Transactions.__\n",
    "* __DEBIT Transactions are only few and TRANSFER type Transactions are also less compared to other type of transactions.__\n",
    "* __No of Fraud transactions of TRANSFER type are very close to No of CASH_OUT FRAUD transactions. Probably modus operadi of FRAUD transactions is by transferring funds to a specific account and then CASHING OUT from those accounts. We will check this further.__"
   ]
  },
  {
   "cell_type": "code",
   "execution_count": 13,
   "id": "b10feb22",
   "metadata": {},
   "outputs": [
    {
     "data": {
      "text/plain": [
       "C553264065     1\n",
       "C988859148     1\n",
       "C1287650869    1\n",
       "C922180689     1\n",
       "C131895413     1\n",
       "              ..\n",
       "C776246900     1\n",
       "C1234144009    1\n",
       "C571016162     1\n",
       "C1381364691    1\n",
       "C2080388513    1\n",
       "Name: nameDest, Length: 4097, dtype: int64"
      ]
     },
     "execution_count": 13,
     "metadata": {},
     "output_type": "execute_result"
    }
   ],
   "source": [
    "data1=data[(data['isFraud']==1) & (data['type']=='TRANSFER')]\n",
    "data1['nameDest'].value_counts()"
   ]
  },
  {
   "cell_type": "code",
   "execution_count": 14,
   "id": "614c642c",
   "metadata": {},
   "outputs": [
    {
     "data": {
      "text/plain": [
       "C840083671     1\n",
       "C1055498407    1\n",
       "C1886113938    1\n",
       "C520336445     1\n",
       "C463684846     1\n",
       "              ..\n",
       "C1641368956    1\n",
       "C2120940829    1\n",
       "C992121519     1\n",
       "C1663597987    1\n",
       "C1280323807    1\n",
       "Name: nameOrig, Length: 4116, dtype: int64"
      ]
     },
     "execution_count": 14,
     "metadata": {},
     "output_type": "execute_result"
    }
   ],
   "source": [
    "data2=data[(data['isFraud']==1) & (data['type']=='CASH_OUT')]\n",
    "data2['nameOrig'].value_counts()"
   ]
  },
  {
   "cell_type": "markdown",
   "id": "a0acb733",
   "metadata": {},
   "source": [
    "There are no specific accounts from which fraud transactions are carried out . Hence we disregard our suspicioun.\n",
    "So these account name features are not useful for us in modelling as is."
   ]
  },
  {
   "cell_type": "markdown",
   "id": "ef7a9fe0",
   "metadata": {},
   "source": [
    "Let's check further"
   ]
  },
  {
   "cell_type": "code",
   "execution_count": 15,
   "id": "2415b7fc",
   "metadata": {},
   "outputs": [],
   "source": [
    "fraud = data[data[\"isFraud\"] == 1]\n",
    "valid = data[data[\"isFraud\"] == 0]"
   ]
  },
  {
   "cell_type": "code",
   "execution_count": 16,
   "id": "da2a41d5",
   "metadata": {},
   "outputs": [
    {
     "data": {
      "text/plain": [
       "False"
      ]
     },
     "execution_count": 16,
     "metadata": {},
     "output_type": "execute_result"
    }
   ],
   "source": [
    "fraud_transfer = fraud[fraud[\"type\"] == \"TRANSFER\"]\n",
    "fraud_cashout = fraud[fraud[\"type\"] == \"CASH_OUT\"]\n",
    "\n",
    "# checking if the recipient account of a fraudulent transfer was used as a sending account for cashing out \n",
    "fraud_transfer.nameDest.isin(fraud_cashout.nameOrig).any()"
   ]
  },
  {
   "cell_type": "markdown",
   "id": "f39105ca",
   "metadata": {},
   "source": [
    "For fraudulent transactions, the account that received funds during a transfer was not used at all for cashing out."
   ]
  },
  {
   "cell_type": "markdown",
   "id": "e97d977a",
   "metadata": {},
   "source": [
    "We derive a new feature Transaction Type2 from these features account types \"C\" (customer) and \"M\" (merchant), which would be the first character for each value under nameOrig and nameDest."
   ]
  },
  {
   "cell_type": "markdown",
   "id": "57b81d5c",
   "metadata": {},
   "source": [
    "We will create a categorical variable with levels \"CC\" (Customer to Customer), \"CM\" (Customer to Merchant), \"MC\" (Merchant to Customer), \"MM\" (Merchant to Merchant)."
   ]
  },
  {
   "cell_type": "code",
   "execution_count": 17,
   "id": "955b35ff",
   "metadata": {},
   "outputs": [],
   "source": [
    "# adding feature type1\n",
    "data_new = data.copy() # creating copy of dataset in case I need original dataset\n",
    "data_new[\"Type2\"] = np.nan # initializing feature column\n",
    "\n",
    "# filling feature column\n",
    "data_new.loc[data.nameOrig.str.contains('C') & data.nameDest.str.contains('C'),\"Type2\"] = \"CC\" \n",
    "data_new.loc[data.nameOrig.str.contains('C') & data.nameDest.str.contains('M'),\"Type2\"] = \"CM\"\n",
    "data_new.loc[data.nameOrig.str.contains('M') & data.nameDest.str.contains('C'),\"Type2\"] = \"MC\"\n",
    "data_new.loc[data.nameOrig.str.contains('M') & data.nameDest.str.contains('M'),\"Type2\"] = \"MM\""
   ]
  },
  {
   "cell_type": "markdown",
   "id": "43c422aa",
   "metadata": {},
   "source": [
    "### Plotting Pairplot"
   ]
  },
  {
   "cell_type": "markdown",
   "id": "f00769ce",
   "metadata": {},
   "source": [
    "### Visualizing Numeric variables against Fraud using Boxplots."
   ]
  },
  {
   "cell_type": "code",
   "execution_count": 18,
   "id": "06fcc273",
   "metadata": {
    "scrolled": false
   },
   "outputs": [
    {
     "data": {
      "text/plain": [
       "Text(0.5, 1.0, 'oldbalanceDest vs Fraud')"
      ]
     },
     "execution_count": 18,
     "metadata": {},
     "output_type": "execute_result"
    },
    {
     "data": {
      "image/png": "[encoded data removed]",
      "text/plain": [
       "<Figure size 1800x1152 with 4 Axes>"
      ]
     },
     "metadata": {},
     "output_type": "display_data"
    }
   ],
   "source": [
    "plt.figure(figsize=(25, 16))\n",
    "plt.subplot(2,2,1)\n",
    "sns.boxplot(x = 'isFraud', y = 'step', data = data_new)\n",
    "plt.title('step vs Fraud',fontweight=\"bold\", size=20)\n",
    "plt.subplot(2,2,2)\n",
    "sns.boxplot(x = 'isFraud', y = 'amount', data = data_new,palette=\"husl\")\n",
    "plt.title('amount vs Fraud',fontweight=\"bold\", size=20)\n",
    "plt.subplot(2,2,3)\n",
    "sns.boxplot(x = 'isFraud', y = 'oldbalanceOrg', data = data_new, palette= 'husl')\n",
    "plt.title('oldbalanceOrig vs Fraud',fontweight=\"bold\", size=20)\n",
    "plt.subplot(2,2,4)\n",
    "sns.boxplot(x = 'isFraud', y = 'oldbalanceDest', data = data_new,palette=\"bright\")\n",
    "plt.title('oldbalanceDest vs Fraud',fontweight=\"bold\", size=20)"
   ]
  },
  {
   "cell_type": "markdown",
   "id": "2aa5a468",
   "metadata": {},
   "source": [
    "- Median amount for fraud transactions is greater than Non Fraud transactions.\n",
    "- Balance in Origin account in Fraud transactions before transaction is greater than Balance in Origin account of Non Fraud transactions."
   ]
  },
  {
   "cell_type": "code",
   "execution_count": 19,
   "id": "180ea443",
   "metadata": {},
   "outputs": [],
   "source": [
    "fraud = data_new[data_new[\"isFraud\"] == 1]\n",
    "valid = data_new[data_new[\"isFraud\"] == 0]"
   ]
  },
  {
   "cell_type": "code",
   "execution_count": 20,
   "id": "b98668e4",
   "metadata": {},
   "outputs": [
    {
     "name": "stdout",
     "output_type": "stream",
     "text": [
      "Fraud transactions by type1: \n",
      " CC    8213\n",
      "Name: Type2, dtype: int64\n",
      "\n",
      " Valid transactions by type1: \n",
      " CC    4202912\n",
      "CM    2151495\n",
      "Name: Type2, dtype: int64\n"
     ]
    }
   ],
   "source": [
    "print(\"Fraud transactions by type1: \\n\",fraud.Type2.value_counts())\n",
    "print(\"\\n Valid transactions by type1: \\n\",valid.Type2.value_counts())"
   ]
  },
  {
   "cell_type": "markdown",
   "id": "63edf3b7",
   "metadata": {},
   "source": [
    "From the dataset, it seems that fraud transactions only occur when the transaction type1 is CC (Customer to Customer)."
   ]
  },
  {
   "cell_type": "markdown",
   "id": "ec9d5176",
   "metadata": {},
   "source": [
    "### Looking balances before and after the transaction"
   ]
  },
  {
   "cell_type": "code",
   "execution_count": 21,
   "id": "a84448bd",
   "metadata": {},
   "outputs": [
    {
     "name": "stdout",
     "output_type": "stream",
     "text": [
      "Percentage of observations with balance errors in the account giving money:  85.0\n",
      "Percentage of observations with balance errors in the account receiving money:  100.0\n"
     ]
    }
   ],
   "source": [
    "wrong_orig_bal = sum(data[\"oldbalanceOrg\"] - data[\"amount\"] != data[\"newbalanceOrig\"])\n",
    "wrong_dest_bal = sum(data[\"newbalanceDest\"] + data[\"amount\"] != data[\"newbalanceDest\"])\n",
    "print(\"Percentage of observations with balance errors in the account giving money: \", 100*round(wrong_orig_bal/len(data),2))\n",
    "print(\"Percentage of observations with balance errors in the account receiving money: \", 100*round(wrong_dest_bal/len(data),2))"
   ]
  },
  {
   "cell_type": "markdown",
   "id": "8e6e669c",
   "metadata": {},
   "source": [
    "Most, if not all, of the observations have errors in calculating the balances before and after the transaction."
   ]
  },
  {
   "cell_type": "markdown",
   "id": "151354eb",
   "metadata": {},
   "source": [
    "Since We don't know why these errors are caused, We cannot treat them."
   ]
  },
  {
   "cell_type": "markdown",
   "id": "852a90d1",
   "metadata": {},
   "source": [
    "We will not process them and use them as is for our modelling purpose."
   ]
  },
  {
   "cell_type": "markdown",
   "id": "fc1a1770",
   "metadata": {},
   "source": [
    "### Looking at Time"
   ]
  },
  {
   "cell_type": "code",
   "execution_count": 22,
   "id": "49740fe5",
   "metadata": {},
   "outputs": [
    {
     "data": {
      "image/png": "[encoded data removed]",
      "text/plain": [
       "<Figure size 432x288 with 1 Axes>"
      ]
     },
     "metadata": {},
     "output_type": "display_data"
    },
    {
     "data": {
      "image/png": "[encoded data removed]",
      "text/plain": [
       "<Figure size 432x288 with 1 Axes>"
      ]
     },
     "metadata": {},
     "output_type": "display_data"
    }
   ],
   "source": [
    "bins = 50\n",
    "\n",
    "valid.hist(column=\"step\",color=\"green\",bins=bins)\n",
    "plt.xlabel(\"1 hour time step\")\n",
    "plt.ylabel(\"# of transactions\")\n",
    "plt.title(\"# of valid transactions over time\")\n",
    "\n",
    "fraud.hist(column =\"step\",color=\"red\",bins=bins)\n",
    "plt.xlabel(\"1 hour time step\")\n",
    "plt.ylabel(\"# of transactions\")\n",
    "plt.title(\"# of fraud transactions over time\")\n",
    "\n",
    "plt.tight_layout()\n",
    "plt.show()"
   ]
  },
  {
   "cell_type": "markdown",
   "id": "ba9fc48b",
   "metadata": {},
   "source": [
    "- A large proportion of valid transactions occur between around the 0th and 60th timestep as well as the 110th and 410th time-steps.\n",
    "- The frequency at which fraudulent transactions occur does not seem to change much over time."
   ]
  },
  {
   "cell_type": "markdown",
   "id": "2d1027ed",
   "metadata": {},
   "source": [
    "Let's see what the patterns look like over any particular, day of the week or hour of the day."
   ]
  },
  {
   "cell_type": "code",
   "execution_count": 23,
   "id": "fc397f2e",
   "metadata": {},
   "outputs": [
    {
     "data": {
      "image/png": "[encoded data removed]",
      "text/plain": [
       "<Figure size 432x288 with 2 Axes>"
      ]
     },
     "metadata": {},
     "output_type": "display_data"
    }
   ],
   "source": [
    "num_days = 7\n",
    "num_hours = 24\n",
    "fraud_days = (fraud.step//num_hours)% num_days\n",
    "fraud_hours = fraud.step % num_hours\n",
    "valid_days = (valid.step//num_hours) % num_days\n",
    "valid_hours = valid.step % num_hours\n",
    "\n",
    "# plotting scatterplot of the days of the week, identifying the fraudulent transactions (red) from the valid transactions (green) \n",
    "plt.subplot(1, 2, 1)\n",
    "fraud_days.hist(bins=num_days,color=\"red\")\n",
    "plt.title('Fraud transactions by Day')\n",
    "plt.xlabel('Day of the Week')\n",
    "plt.ylabel(\"# of transactions\")\n",
    "\n",
    "plt.subplot(1,2,2)\n",
    "valid_days.hist(bins=num_days,color=\"green\")\n",
    "plt.title('Valid transactions by Day')\n",
    "plt.xlabel('Day of the Week')\n",
    "plt.ylabel(\"# of transactions\")\n",
    "\n",
    "plt.tight_layout()\n",
    "plt.show()"
   ]
  },
  {
   "cell_type": "markdown",
   "id": "5cca95da",
   "metadata": {},
   "source": [
    "From the graphs above, there is little evidence to suggest that fraudulent transactions occur at particular days of the week.\n",
    "\n",
    "While valid transactions occur less on some two consecutive days of the week."
   ]
  },
  {
   "cell_type": "code",
   "execution_count": 24,
   "id": "356f7a89",
   "metadata": {},
   "outputs": [
    {
     "data": {
      "image/png": "[encoded data removed]",
      "text/plain": [
       "<Figure size 432x288 with 2 Axes>"
      ]
     },
     "metadata": {},
     "output_type": "display_data"
    }
   ],
   "source": [
    "plt.subplot(1, 2, 1)\n",
    "fraud_hours.hist(bins=num_hours, color=\"red\")\n",
    "plt.title('Fraud transactions by Hour')\n",
    "plt.xlabel('Hour of the Day')\n",
    "plt.ylabel(\"# of transactions\")\n",
    "\n",
    "\n",
    "plt.subplot(1, 2, 2)\n",
    "valid_hours.hist(bins=num_hours, color=\"green\")\n",
    "plt.title('Valid transactions by Hour')\n",
    "plt.xlabel('Hour of the Day')\n",
    "plt.ylabel(\"# of transactions\")\n",
    "\n",
    "plt.tight_layout()\n",
    "plt.show()"
   ]
  },
  {
   "cell_type": "markdown",
   "id": "78088d4b",
   "metadata": {},
   "source": [
    "We observe that from hour 0 to hour 9  valid transactions very seldom occur. On the other hand, fraudulent transactions still occur at similar rates to any hour of the day outside of hours 0 to 9 .\n",
    "\n",
    "In response to this, We1m will create another feature HourOfDay, which is the step column with each number taken to modulo 24."
   ]
  },
  {
   "cell_type": "code",
   "execution_count": 25,
   "id": "415e9523",
   "metadata": {},
   "outputs": [
    {
     "name": "stdout",
     "output_type": "stream",
     "text": [
      "Head of dataset1: \n",
      "    step      type    amount     nameOrig  oldbalanceOrg  newbalanceOrig  \\\n",
      "0     1   PAYMENT   9839.64  C1231006815       170136.0       160296.36   \n",
      "1     1   PAYMENT   1864.28  C1666544295        21249.0        19384.72   \n",
      "2     1  TRANSFER    181.00  C1305486145          181.0            0.00   \n",
      "3     1  CASH_OUT    181.00   C840083671          181.0            0.00   \n",
      "4     1   PAYMENT  11668.14  C2048537720        41554.0        29885.86   \n",
      "\n",
      "      nameDest  oldbalanceDest  newbalanceDest  isFraud  isFlaggedFraud Type2  \\\n",
      "0  M1979787155             0.0             0.0        0               0    CM   \n",
      "1  M2044282225             0.0             0.0        0               0    CM   \n",
      "2   C553264065             0.0             0.0        1               0    CC   \n",
      "3    C38997010         21182.0             0.0        1               0    CC   \n",
      "4  M1230701703             0.0             0.0        0               0    CM   \n",
      "\n",
      "   HourOfDay  \n",
      "0          1  \n",
      "1          1  \n",
      "2          1  \n",
      "3          1  \n",
      "4          1  \n"
     ]
    }
   ],
   "source": [
    "data_new[\"HourOfDay\"] = np.nan # initializing feature column\n",
    "data_new.HourOfDay = data_new.step % 24\n",
    "\n",
    "\n",
    "print(\"Head of dataset1: \\n\", pd.DataFrame.head(data_new))\n"
   ]
  },
  {
   "cell_type": "markdown",
   "id": "a980797a",
   "metadata": {},
   "source": [
    "#### We will drop columns irrelevant for our modelling. These are isFlaggedFraud, nameOrig, nameDest columns."
   ]
  },
  {
   "cell_type": "code",
   "execution_count": 26,
   "id": "00524fe0",
   "metadata": {},
   "outputs": [],
   "source": [
    "data_new = data_new.drop([\"isFlaggedFraud\",'nameOrig','nameDest'],1)"
   ]
  },
  {
   "cell_type": "markdown",
   "id": "67f74d19",
   "metadata": {},
   "source": [
    "### Pairplot of Variables"
   ]
  },
  {
   "cell_type": "markdown",
   "id": "1f09537b",
   "metadata": {},
   "source": [
    "### Handling Categorical Variables"
   ]
  },
  {
   "cell_type": "code",
   "execution_count": 27,
   "id": "1ffd86ca",
   "metadata": {},
   "outputs": [],
   "source": [
    "data_new = pd.get_dummies(data_new,prefix=['type','Type2'],drop_first=True)"
   ]
  },
  {
   "cell_type": "markdown",
   "id": "9098dfd1",
   "metadata": {},
   "source": [
    "### Train-Test Split Standardizing Data"
   ]
  },
  {
   "cell_type": "code",
   "execution_count": 28,
   "id": "9d80d3bc",
   "metadata": {},
   "outputs": [],
   "source": [
    "X = data_new.drop(\"isFraud\",1)\n",
    "y = data_new.isFraud\n",
    "X_train, X_test, y_train, y_test = train_test_split(X, y)\n",
    "    \n",
    "# Normalizing data so that all variables follow the same scale (0 to 1)\n",
    "scaler = MinMaxScaler()\n",
    "\n",
    "# Fit only to the training data\n",
    "X_train=scaler.fit_transform(X_train)\n",
    "\n",
    "X_test = scaler.transform(X_test)"
   ]
  },
  {
   "cell_type": "markdown",
   "id": "27979390",
   "metadata": {},
   "source": [
    "## Model Selection\n",
    "\n",
    "Non-parametric machine learning methods may be preferred due to the large size of the data and that the goal is accurate classification, not interpretation"
   ]
  },
  {
   "cell_type": "markdown",
   "id": "3c41a0d6",
   "metadata": {},
   "source": [
    "### Performing Undersampling of Train Data\n",
    "- **We undersample training data as when we trained classifiers with entire training data all classifiers except RandomForest and Neural Networks classified all points as non-Fraud and failed to detect any Fraud transaction**\n",
    "- **Our training data is in millions so models will still learn train data well as the undersampled data will still contain enough number of transactions**"
   ]
  },
  {
   "cell_type": "code",
   "execution_count": 63,
   "id": "5352dcbf",
   "metadata": {},
   "outputs": [],
   "source": [
    "from imblearn.under_sampling import RandomUnderSampler\n",
    "rus = RandomUnderSampler(sampling_strategy=0.2)"
   ]
  },
  {
   "cell_type": "code",
   "execution_count": 64,
   "id": "32445811",
   "metadata": {},
   "outputs": [],
   "source": [
    "X_res, y_res = rus.fit_resample(X_train, y_train)"
   ]
  },
  {
   "cell_type": "markdown",
   "id": "994e15c2",
   "metadata": {},
   "source": [
    "### Logistic Regression"
   ]
  },
  {
   "cell_type": "code",
   "execution_count": 71,
   "id": "2f34a69e",
   "metadata": {},
   "outputs": [],
   "source": [
    "from sklearn.linear_model import LogisticRegression"
   ]
  },
  {
   "cell_type": "code",
   "execution_count": 74,
   "id": "c0992b23",
   "metadata": {},
   "outputs": [
    {
     "name": "stdout",
     "output_type": "stream",
     "text": [
      "Accuracy: 0.9744589493007597\n",
      "Confusion Matrix:\n",
      " [[1548840   39798]\n",
      " [    829    1188]]\n",
      "Classification Report:\n",
      "               precision    recall  f1-score   support\n",
      "\n",
      "           0       1.00      0.97      0.99   1588638\n",
      "           1       0.03      0.59      0.06      2017\n",
      "\n",
      "    accuracy                           0.97   1590655\n",
      "   macro avg       0.51      0.78      0.52   1590655\n",
      "weighted avg       1.00      0.97      0.99   1590655\n",
      "\n",
      "Confusion Matrix Train:\n",
      " [[4646917  118852]\n",
      " [   2610    3586]]\n",
      "Classification Report Train:\n",
      "               precision    recall  f1-score   support\n",
      "\n",
      "           0       1.00      0.98      0.99   4765769\n",
      "           1       0.03      0.58      0.06      6196\n",
      "\n",
      "    accuracy                           0.97   4771965\n",
      "   macro avg       0.51      0.78      0.52   4771965\n",
      "weighted avg       1.00      0.97      0.99   4771965\n",
      "\n",
      "Precision: 0.028985507246376812\n",
      "Recall: 0.5889935547843331\n",
      "F1: 0.05525195916563961\n",
      "Area under precision (AUC) Recall: 0.017593445902683212\n"
     ]
    }
   ],
   "source": [
    "clf = LogisticRegression()\n",
    "clf.fit(X_res, y_res)\n",
    "y_pred = clf.predict(X_test)\n",
    "y_predtrain = clf.predict(X_train)\n",
    "CM_LR = confusion_matrix(y_test,y_pred)\n",
    "CR_LR = classification_report(y_test,y_pred)\n",
    "CM_LRtrain = confusion_matrix(y_train,y_predtrain)\n",
    "CR_LRtrain = classification_report(y_train,y_predtrain)\n",
    "print(\"Accuracy:\", accuracy_score(y_test, y_pred))\n",
    "print(\"Confusion Matrix:\\n\",CM_LR)\n",
    "print(\"Classification Report:\\n\",CR_LR)\n",
    "print(\"Confusion Matrix Train:\\n\",CM_LRtrain)\n",
    "print(\"Classification Report Train:\\n\",CR_LRtrain)\n",
    "print(\"Precision:\", precision_score(y_test, y_pred))\n",
    "print(\"Recall:\", recall_score(y_test, y_pred))\n",
    "print(\"F1:\", f1_score(y_test, y_pred))\n",
    "print(\"Area under precision (AUC) Recall:\", average_precision_score(y_test, y_pred))"
   ]
  },
  {
   "cell_type": "markdown",
   "id": "c2eaa3ec",
   "metadata": {},
   "source": [
    "### Bernoulli Naive Bayes"
   ]
  },
  {
   "cell_type": "code",
   "execution_count": 78,
   "id": "8cf2bd2d",
   "metadata": {
    "scrolled": false
   },
   "outputs": [
    {
     "name": "stdout",
     "output_type": "stream",
     "text": [
      "Accuracy: 0.9227708082519466\n",
      "Confusion Matrix:\n",
      " [[1466463  122175]\n",
      " [    670    1347]]\n",
      "Classification Report:\n",
      "               precision    recall  f1-score   support\n",
      "\n",
      "           0       1.00      0.92      0.96   1588638\n",
      "           1       0.01      0.67      0.02      2017\n",
      "\n",
      "    accuracy                           0.92   1590655\n",
      "   macro avg       0.51      0.80      0.49   1590655\n",
      "weighted avg       1.00      0.92      0.96   1590655\n",
      "\n",
      "Confusion Matrix Train:\n",
      " [[4397283  368486]\n",
      " [   2256    3940]]\n",
      "Classification Report Train:\n",
      "               precision    recall  f1-score   support\n",
      "\n",
      "           0       1.00      0.92      0.96   4765769\n",
      "           1       0.01      0.64      0.02      6196\n",
      "\n",
      "    accuracy                           0.92   4771965\n",
      "   macro avg       0.51      0.78      0.49   4771965\n",
      "weighted avg       1.00      0.92      0.96   4771965\n",
      "\n",
      "Precision: 0.010904940010686355\n",
      "Recall: 0.6678235002478929\n",
      "F1: 0.021459466779247885\n",
      "Area under precision (AUC) Recall: 0.007703785338347829\n"
     ]
    }
   ],
   "source": [
    "clf = BernoulliNB()\n",
    "clf.fit(X_res, y_res)\n",
    "y_pred = clf.predict(X_test)\n",
    "y_predtrain = clf.predict(X_train)\n",
    "CM_NB = confusion_matrix(y_test,y_pred)\n",
    "CR_NB = classification_report(y_test,y_pred)\n",
    "CM_NBtrain = confusion_matrix(y_train,y_predtrain)\n",
    "CR_NBtrain = classification_report(y_train,y_predtrain)\n",
    "print(\"Accuracy:\", accuracy_score(y_test, y_pred))\n",
    "print(\"Confusion Matrix:\\n\",CM_NB)\n",
    "print(\"Classification Report:\\n\",CR_NB)\n",
    "print(\"Confusion Matrix Train:\\n\",CM_NBtrain)\n",
    "print(\"Classification Report Train:\\n\",CR_NBtrain)\n",
    "print(\"Precision:\", precision_score(y_test, y_pred))\n",
    "print(\"Recall:\", recall_score(y_test, y_pred))\n",
    "print(\"F1:\", f1_score(y_test, y_pred))\n",
    "print(\"Area under precision (AUC) Recall:\", average_precision_score(y_test, y_pred))"
   ]
  },
  {
   "cell_type": "markdown",
   "id": "d5b0bafb",
   "metadata": {},
   "source": [
    "### Multinomial Naive Bayes"
   ]
  },
  {
   "cell_type": "code",
   "execution_count": 79,
   "id": "ce2c6eaf",
   "metadata": {
    "scrolled": false
   },
   "outputs": [
    {
     "name": "stdout",
     "output_type": "stream",
     "text": [
      "Accuracy: 0.9163319513030795\n",
      "Confusion Matrix:\n",
      " [[1456562  132076]\n",
      " [   1011    1006]]\n",
      "Classification Report:\n",
      "               precision    recall  f1-score   support\n",
      "\n",
      "           0       1.00      0.92      0.96   1588638\n",
      "           1       0.01      0.50      0.01      2017\n",
      "\n",
      "    accuracy                           0.92   1590655\n",
      "   macro avg       0.50      0.71      0.49   1590655\n",
      "weighted avg       1.00      0.92      0.96   1590655\n",
      "\n",
      "Confusion Matrix Train:\n",
      " [[4369045  396724]\n",
      " [   3106    3090]]\n",
      "Classification Report Train:\n",
      "               precision    recall  f1-score   support\n",
      "\n",
      "           0       1.00      0.92      0.96   4765769\n",
      "           1       0.01      0.50      0.02      6196\n",
      "\n",
      "    accuracy                           0.92   4771965\n",
      "   macro avg       0.50      0.71      0.49   4771965\n",
      "weighted avg       1.00      0.92      0.96   4771965\n",
      "\n",
      "Precision: 0.0075592491847131845\n",
      "Recall: 0.49876053544868615\n",
      "F1: 0.01489278232999504\n",
      "Area under precision (AUC) Recall: 0.0044058423976032195\n"
     ]
    }
   ],
   "source": [
    "clf = MultinomialNB()\n",
    "clf.fit(X_res, y_res)\n",
    "y_pred = clf.predict(X_test)\n",
    "y_predtrain = clf.predict(X_train)\n",
    "CM_MNB = confusion_matrix(y_test,y_pred)\n",
    "CR_MNB = classification_report(y_test,y_pred)\n",
    "CM_MNBtrain = confusion_matrix(y_train,y_predtrain)\n",
    "CR_MNBtrain = classification_report(y_train,y_predtrain)\n",
    "print(\"Accuracy:\", accuracy_score(y_test, y_pred))\n",
    "print(\"Confusion Matrix:\\n\",CM_MNB)\n",
    "print(\"Classification Report:\\n\",CR_MNB)\n",
    "print(\"Confusion Matrix Train:\\n\",CM_MNBtrain)\n",
    "print(\"Classification Report Train:\\n\",CR_MNBtrain)\n",
    "print(\"Precision:\", precision_score(y_test, y_pred))\n",
    "print(\"Recall:\", recall_score(y_test, y_pred))\n",
    "print(\"F1:\", f1_score(y_test, y_pred))\n",
    "print(\"Area under precision (AUC) Recall:\", average_precision_score(y_test, y_pred))"
   ]
  },
  {
   "cell_type": "markdown",
   "id": "4cf4b294",
   "metadata": {},
   "source": [
    "### Stochastic Gradient Classifier"
   ]
  },
  {
   "cell_type": "code",
   "execution_count": 81,
   "id": "ccd2bdae",
   "metadata": {},
   "outputs": [
    {
     "name": "stdout",
     "output_type": "stream",
     "text": [
      "Accuracy: 0.9680301511012759\n",
      "Confusion Matrix:\n",
      " [[1538571   50067]\n",
      " [    786    1231]]\n",
      "Classification Report:\n",
      "               precision    recall  f1-score   support\n",
      "\n",
      "           0       1.00      0.97      0.98   1588638\n",
      "           1       0.02      0.61      0.05      2017\n",
      "\n",
      "    accuracy                           0.97   1590655\n",
      "   macro avg       0.51      0.79      0.51   1590655\n",
      "weighted avg       1.00      0.97      0.98   1590655\n",
      "\n",
      "Confusion Matrix Train:\n",
      " [[4616852  148917]\n",
      " [   2443    3753]]\n",
      "Classification Report Train:\n",
      "               precision    recall  f1-score   support\n",
      "\n",
      "           0       1.00      0.97      0.98   4765769\n",
      "           1       0.02      0.61      0.05      6196\n",
      "\n",
      "    accuracy                           0.97   4771965\n",
      "   macro avg       0.51      0.79      0.52   4771965\n",
      "weighted avg       1.00      0.97      0.98   4771965\n",
      "\n",
      "Precision: 0.023997036921517407\n",
      "Recall: 0.6103123450669311\n",
      "F1: 0.04617837381599925\n",
      "Area under precision (AUC) Recall: 0.01513982394167458\n"
     ]
    }
   ],
   "source": [
    "from sklearn.linear_model import SGDClassifier\n",
    "clf = SGDClassifier(loss=\"hinge\", penalty=\"l2\", max_iter=5)\n",
    "clf.fit(X_res, y_res)\n",
    "y_pred=clf.predict(X_test)\n",
    "y_predtrain=clf.predict(X_train)\n",
    "SGDClassifier(max_iter=5)\n",
    "CM_svc = confusion_matrix(y_test,y_pred)\n",
    "CR_svc = classification_report(y_test,y_pred)\n",
    "CM_svctrain = confusion_matrix(y_train,y_predtrain)\n",
    "CR_svctrain = classification_report(y_train,y_predtrain)\n",
    "print(\"Accuracy:\", accuracy_score(y_test, y_pred))\n",
    "print(\"Confusion Matrix:\\n\",CM_svc)\n",
    "print(\"Classification Report:\\n\",CR_svc)\n",
    "print(\"Confusion Matrix Train:\\n\",CM_svctrain)\n",
    "print(\"Classification Report Train:\\n\",CR_svctrain)\n",
    "print(\"Precision:\", precision_score(y_test, y_pred))\n",
    "print(\"Recall:\", recall_score(y_test, y_pred))\n",
    "print(\"F1:\", f1_score(y_test, y_pred))\n",
    "print(\"Area under precision (AUC) Recall:\", average_precision_score(y_test, y_pred))"
   ]
  },
  {
   "cell_type": "markdown",
   "id": "537c742d",
   "metadata": {},
   "source": [
    "### RandomForestClassifier"
   ]
  },
  {
   "cell_type": "markdown",
   "id": "8d317bc9",
   "metadata": {},
   "source": [
    "A random forest is an algorithm that generates several decisions trees and pools the results of each tree to make a more robust prediction.\n",
    "\n",
    "Another great thing about Random Forest is that We can assign weights to each class to reduced the bias of the model towards the majority class."
   ]
  },
  {
   "cell_type": "code",
   "execution_count": 82,
   "id": "f7f1ac2a",
   "metadata": {
    "scrolled": false
   },
   "outputs": [
    {
     "name": "stdout",
     "output_type": "stream",
     "text": [
      "Accuracy: 0.9997372151723661\n",
      "Confusion Matrix:\n",
      " [[1588611      27]\n",
      " [    391    1626]]\n",
      "Classification Report:\n",
      "               precision    recall  f1-score   support\n",
      "\n",
      "           0       1.00      1.00      1.00   1588638\n",
      "           1       0.98      0.81      0.89      2017\n",
      "\n",
      "    accuracy                           1.00   1590655\n",
      "   macro avg       0.99      0.90      0.94   1590655\n",
      "weighted avg       1.00      1.00      1.00   1590655\n",
      "\n",
      "Confusion Matrix Train Data:\n",
      " [[4765768       1]\n",
      " [    122    6074]]\n",
      "Classification Report Train Data:\n",
      "               precision    recall  f1-score   support\n",
      "\n",
      "           0       1.00      1.00      1.00   4765769\n",
      "           1       1.00      0.98      0.99      6196\n",
      "\n",
      "    accuracy                           1.00   4771965\n",
      "   macro avg       1.00      0.99      0.99   4771965\n",
      "weighted avg       1.00      1.00      1.00   4771965\n",
      "\n",
      "Precision: 0.9836660617059891\n",
      "Recall: 0.8061477441745166\n",
      "F1: 0.8861035422343325\n",
      "Area under precision (AUC) Recall: 0.7932259873533639\n"
     ]
    }
   ],
   "source": [
    "RF = RandomForestClassifier(n_estimators=15,oob_score=True,class_weight='balanced',n_jobs=-1)\n",
    "\n",
    "\n",
    "RF.fit(X_train, y_train)\n",
    "\n",
    "y_pred= RF.predict(X_test)\n",
    "y_predtrain=RF.predict(X_train) \n",
    "     \n",
    "# Evaluating model\n",
    "CM_RF_train=confusion_matrix(y_train,y_predtrain)\n",
    "CR_RF_train= classification_report(y_train,y_predtrain)\n",
    "CM_RF = confusion_matrix(y_test,y_pred)\n",
    "CR_RF = classification_report(y_test,y_pred)\n",
    "print(\"Accuracy:\", accuracy_score(y_test, y_pred))\n",
    "print(\"Confusion Matrix:\\n\",CM_RF)\n",
    "print(\"Classification Report:\\n\",CR_RF)\n",
    "print(\"Confusion Matrix Train Data:\\n\",CM_RF_train)\n",
    "print(\"Classification Report Train Data:\\n\",CR_RF_train)\n",
    "print(\"Precision:\", precision_score(y_test, y_pred))\n",
    "print(\"Recall:\", recall_score(y_test, y_pred))\n",
    "print(\"F1:\", f1_score(y_test, y_pred))\n",
    "print(\"Area under precision (AUC) Recall:\", average_precision_score(y_test, y_pred))"
   ]
  },
  {
   "cell_type": "markdown",
   "id": "06a4013e",
   "metadata": {},
   "source": [
    "**When using entire training data for training RandomForest model the model classifies only a very small fraction as Fraud but misclassifies more than 20% Fraud transactions as non-Fraud which is not desirable. Hence we train our RandomForest Classifier to minimize misclassification of Fraud transactions allowing misclassification of non-Fraud transactions to some extent.** "
   ]
  },
  {
   "cell_type": "code",
   "execution_count": 83,
   "id": "bf969408",
   "metadata": {},
   "outputs": [
    {
     "name": "stdout",
     "output_type": "stream",
     "text": [
      "Accuracy: 0.9958268763496798\n",
      "Confusion Matrix:\n",
      " [[1582046    6592]\n",
      " [     46    1971]]\n",
      "Classification Report:\n",
      "               precision    recall  f1-score   support\n",
      "\n",
      "           0       1.00      1.00      1.00   1588638\n",
      "           1       0.23      0.98      0.37      2017\n",
      "\n",
      "    accuracy                           1.00   1590655\n",
      "   macro avg       0.62      0.99      0.69   1590655\n",
      "weighted avg       1.00      1.00      1.00   1590655\n",
      "\n",
      "Confusion Matrix Train Data:\n",
      " [[4746229   19540]\n",
      " [      5    6191]]\n",
      "Classification Report Train Data:\n",
      "               precision    recall  f1-score   support\n",
      "\n",
      "           0       1.00      1.00      1.00   4765769\n",
      "           1       0.24      1.00      0.39      6196\n",
      "\n",
      "    accuracy                           1.00   4771965\n",
      "   macro avg       0.62      1.00      0.69   4771965\n",
      "weighted avg       1.00      1.00      1.00   4771965\n",
      "\n",
      "Precision: 0.23017634006773327\n",
      "Recall: 0.9771938522558254\n",
      "F1: 0.3725897920604915\n",
      "Area under precision (AUC) Recall: 0.22495582335341163\n"
     ]
    }
   ],
   "source": [
    "RF = RandomForestClassifier(n_estimators=15,oob_score=True,n_jobs=-1)\n",
    "\n",
    "\n",
    "RF.fit(X_res, y_res)\n",
    "\n",
    "y_pred= RF.predict(X_test)\n",
    "y_predtrain=RF.predict(X_train) \n",
    "     \n",
    "# Evaluating model\n",
    "CM_RF_train=confusion_matrix(y_train,y_predtrain)\n",
    "CR_RF_train= classification_report(y_train,y_predtrain)\n",
    "CM_RF = confusion_matrix(y_test,y_pred)\n",
    "CR_RF = classification_report(y_test,y_pred)\n",
    "print(\"Accuracy:\", accuracy_score(y_test, y_pred))\n",
    "print(\"Confusion Matrix:\\n\",CM_RF)\n",
    "print(\"Classification Report:\\n\",CR_RF)\n",
    "print(\"Confusion Matrix Train Data:\\n\",CM_RF_train)\n",
    "print(\"Classification Report Train Data:\\n\",CR_RF_train)\n",
    "print(\"Precision:\", precision_score(y_test, y_pred))\n",
    "print(\"Recall:\", recall_score(y_test, y_pred))\n",
    "print(\"F1:\", f1_score(y_test, y_pred))\n",
    "print(\"Area under precision (AUC) Recall:\", average_precision_score(y_test, y_pred))"
   ]
  },
  {
   "cell_type": "markdown",
   "id": "401bac6e",
   "metadata": {},
   "source": [
    "### Artificial Neural Networks"
   ]
  },
  {
   "cell_type": "code",
   "execution_count": 39,
   "id": "2313457a",
   "metadata": {},
   "outputs": [],
   "source": [
    "import tensorflow as tf\n",
    "from tensorflow import keras\n",
    "\n",
    "\n",
    "model = keras.Sequential([\n",
    "    keras.layers.Dense(15, input_shape=(12,), activation='relu'),\n",
    "    keras.layers.Dense(1, activation='sigmoid')\n",
    "])"
   ]
  },
  {
   "cell_type": "code",
   "execution_count": 40,
   "id": "b89b3afc",
   "metadata": {},
   "outputs": [
    {
     "name": "stdout",
     "output_type": "stream",
     "text": [
      "Epoch 1/5\n",
      "149124/149124 [==============================] - 365s 2ms/step - loss: 0.0061 - accuracy: 0.9987\n",
      "Epoch 2/5\n",
      "149124/149124 [==============================] - 368s 2ms/step - loss: 0.0036 - accuracy: 0.9993\n",
      "Epoch 3/5\n",
      "149124/149124 [==============================] - 372s 2ms/step - loss: 0.0031 - accuracy: 0.9993\n",
      "Epoch 4/5\n",
      "149124/149124 [==============================] - 371s 2ms/step - loss: 0.0029 - accuracy: 0.9994\n",
      "Epoch 5/5\n",
      "149124/149124 [==============================] - 369s 2ms/step - loss: 0.0027 - accuracy: 0.9994\n"
     ]
    },
    {
     "data": {
      "text/plain": [
       "<keras.callbacks.History at 0x1528850f580>"
      ]
     },
     "execution_count": 40,
     "metadata": {},
     "output_type": "execute_result"
    }
   ],
   "source": [
    "model.compile(optimizer='adam',\n",
    "              loss='binary_crossentropy',\n",
    "              metrics=['accuracy'])\n",
    "\n",
    "model.fit(X_train, y_train, epochs=5)"
   ]
  },
  {
   "cell_type": "code",
   "execution_count": 41,
   "id": "93bee0cf",
   "metadata": {},
   "outputs": [
    {
     "name": "stdout",
     "output_type": "stream",
     "text": [
      "49708/49708 [==============================] - 118s 2ms/step\n",
      "149124/149124 [==============================] - 289s 2ms/step\n"
     ]
    }
   ],
   "source": [
    "Y_pred1=model.predict(X_test)"
   ]
  },
  {
   "cell_type": "code",
   "execution_count": 42,
   "id": "9963829f",
   "metadata": {},
   "outputs": [],
   "source": [
    "Y_pred=np.where(Y_pred1<0.44,0,1)"
   ]
  },
  {
   "cell_type": "code",
   "execution_count": 49,
   "id": "02442acf",
   "metadata": {},
   "outputs": [
    {
     "name": "stdout",
     "output_type": "stream",
     "text": [
      "149124/149124 [==============================] - 274s 2ms/step\n"
     ]
    }
   ],
   "source": [
    "y_predtrain1=model.predict(X_train)"
   ]
  },
  {
   "cell_type": "code",
   "execution_count": 58,
   "id": "631c1182",
   "metadata": {},
   "outputs": [],
   "source": [
    "y_predtrain=np.where(y_predtrain1<0.38,0,1)"
   ]
  },
  {
   "cell_type": "code",
   "execution_count": 59,
   "id": "311874f0",
   "metadata": {
    "scrolled": false
   },
   "outputs": [
    {
     "name": "stdout",
     "output_type": "stream",
     "text": [
      "Confusion Matrix:\n",
      " [[1588540      98]\n",
      " [    681    1336]]\n",
      "Classification Report:\n",
      "               precision    recall  f1-score   support\n",
      "\n",
      "           0       1.00      1.00      1.00   1588638\n",
      "           1       0.93      0.66      0.77      2017\n",
      "\n",
      "    accuracy                           1.00   1590655\n",
      "   macro avg       0.97      0.83      0.89   1590655\n",
      "weighted avg       1.00      1.00      1.00   1590655\n",
      "\n",
      "Confusion Matrix Train:\n",
      " [[4765254     515]\n",
      " [   1894    4302]]\n",
      "Classification Report Train:\n",
      "               precision    recall  f1-score   support\n",
      "\n",
      "           0       1.00      1.00      1.00   4765769\n",
      "           1       0.89      0.69      0.78      6196\n",
      "\n",
      "    accuracy                           1.00   4771965\n",
      "   macro avg       0.95      0.85      0.89   4771965\n",
      "weighted avg       1.00      1.00      1.00   4771965\n",
      "\n",
      "Area Under Curve: 0.8311540840798798\n",
      "Precision: 0.9316596931659693\n",
      "Recall: 0.6623698562221121\n",
      "F1: 0.7742683280208635\n"
     ]
    }
   ],
   "source": [
    "CM_NN = confusion_matrix(y_test,Y_pred)\n",
    "CR_NN = classification_report(y_test,Y_pred)\n",
    "CM_NNtrain = confusion_matrix(y_train,y_predtrain)\n",
    "CR_NNtrain = classification_report(y_train,y_predtrain)\n",
    "ROC_AUC_SCORENN= roc_auc_score(y_test, Y_pred)\n",
    "print(\"Confusion Matrix:\\n\",CM_NN)\n",
    "print(\"Classification Report:\\n\",CR_NN)\n",
    "print(\"Confusion Matrix Train:\\n\",CM_NNtrain)\n",
    "print(\"Classification Report Train:\\n\",CR_NNtrain)\n",
    "print(\"Area Under Curve:\",ROC_AUC_SCORENN)\n",
    "print(\"Precision:\", precision_score(y_test, Y_pred))\n",
    "print(\"Recall:\", recall_score(y_test, Y_pred))\n",
    "print(\"F1:\", f1_score(y_test, Y_pred))"
   ]
  },
  {
   "cell_type": "markdown",
   "id": "d41f33f7",
   "metadata": {},
   "source": [
    "### Observations and Conclusion"
   ]
  },
  {
   "cell_type": "markdown",
   "id": "9452dfd2",
   "metadata": {},
   "source": [
    "- **When we compare confusion matrices of all the classifiers we observe that RandomForest Classifier does a very good work detecting Fraud Transactions leaving only around 3% of Fraud transactions from Test data undetected and when checked on Train data it leaves 0.05% Fraud transactions undetected.** \n",
    "- **The closest model in detecting fraud transactions is Bernoulli Naive Bayes but it still leaves more Fraud transactions from Train and Test data undetected and also it misclassifies considerable Non-Fraud transactions as Fraud which is very undesirable.**\n",
    "- **RandomForest does misclassify some nonFraud transactions as Fraud but it is less than 0.5% of all non Fraud transactions which is fine if less than 0.5% of nonFraud transactions fail in an attempt to detect 97% Fraud transactions.**"
   ]
  },
  {
   "cell_type": "markdown",
   "id": "17ef4602",
   "metadata": {},
   "source": [
    "### Thus, RandomForest Classifier performs best in detecting Fraud Transactions."
   ]
  },
  {
   "cell_type": "markdown",
   "id": "6a7fa29b",
   "metadata": {},
   "source": [
    "#### Confusion Matrix and Classification Report of RandomForest Classifier model"
   ]
  },
  {
   "cell_type": "code",
   "execution_count": 69,
   "id": "8470bb7a",
   "metadata": {},
   "outputs": [
    {
     "name": "stdout",
     "output_type": "stream",
     "text": [
      "Confusion Matrix:\n",
      " [[1582175    6463]\n",
      " [     58    1959]]\n",
      "Classification Report:\n",
      "               precision    recall  f1-score   support\n",
      "\n",
      "           0       1.00      1.00      1.00   1588638\n",
      "           1       0.23      0.97      0.38      2017\n",
      "\n",
      "    accuracy                           1.00   1590655\n",
      "   macro avg       0.62      0.98      0.69   1590655\n",
      "weighted avg       1.00      1.00      1.00   1590655\n",
      "\n",
      "Confusion Matrix Train Data:\n",
      " [[4746210   19559]\n",
      " [      3    6193]]\n",
      "Classification Report Train Data:\n",
      "               precision    recall  f1-score   support\n",
      "\n",
      "           0       1.00      1.00      1.00   4765769\n",
      "           1       0.24      1.00      0.39      6196\n",
      "\n",
      "    accuracy                           1.00   4771965\n",
      "   macro avg       0.62      1.00      0.69   4771965\n",
      "weighted avg       1.00      1.00      1.00   4771965\n",
      "\n"
     ]
    }
   ],
   "source": [
    "print(\"Confusion Matrix:\\n\",CM_RF)\n",
    "print(\"Classification Report:\\n\",CR_RF)\n",
    "print(\"Confusion Matrix Train Data:\\n\",CM_RF_train)\n",
    "print(\"Classification Report Train Data:\\n\",CR_RF_train)"
   ]
  }
 ],
 "metadata": {
  "kernelspec": {
   "display_name": "Python 3 (ipykernel)",
   "language": "python",
   "name": "python3"
  },
  "language_info": {
   "codemirror_mode": {
    "name": "ipython",
    "version": 3
   },
   "file_extension": ".py",
   "mimetype": "text/x-python",
   "name": "python",
   "nbconvert_exporter": "python",
   "pygments_lexer": "ipython3",
   "version": "3.9.12"
  }
 },
 "nbformat": 4,
 "nbformat_minor": 5
}
